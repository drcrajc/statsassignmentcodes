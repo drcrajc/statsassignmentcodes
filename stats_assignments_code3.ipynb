{
  "nbformat": 4,
  "nbformat_minor": 0,
  "metadata": {
    "colab": {
      "provenance": [],
      "authorship_tag": "ABX9TyMckUOeeOn3BtvhXJQ3fGAx",
      "include_colab_link": true
    },
    "kernelspec": {
      "name": "python3",
      "display_name": "Python 3"
    },
    "language_info": {
      "name": "python"
    }
  },
  "cells": [
    {
      "cell_type": "markdown",
      "metadata": {
        "id": "view-in-github",
        "colab_type": "text"
      },
      "source": [
        "<a href=\"https://colab.research.google.com/github/drcrajc/statsassignmentcodes/blob/main/stats_assignments_code3.ipynb\" target=\"_parent\"><img src=\"https://colab.research.google.com/assets/colab-badge.svg\" alt=\"Open In Colab\"/></a>"
      ]
    },
    {
      "cell_type": "code",
      "source": [
        "import numpy as np\n",
        "from sklearn.linear_model import Ridge\n",
        "from sklearn.preprocessing import StandardScaler\n",
        "\n",
        "# Given data points\n",
        "data = [\n",
        "    (-8, 9224112129.09), (-6, 528402701.97), (0, 8.65), (20, 78488937652962.66),\n",
        "    (12, 466776459773.15), (-11, 224713868127.79), (14, 2251535746819.93),\n",
        "    (-16, 8777378093835.01), (-9, 28796454086.62), (-13, 1198832738446.63),\n",
        "    (5, 66178517.68), (6, 425575429.26), (19, 49567223852493.99), (-1, 1.01),\n",
        "    (8, 7588400172.5), (7, 2106950267.55), (1, 7.13), (15, 4231173984679.49),\n",
        "    (-10, 82040211341.46), (-2, 8169), (-7, 2449694140.86), (-17, 16618296037477.04)\n",
        "]\n",
        "\n",
        "# Extract x and y values from the data points\n",
        "x = np.array([point[0] for point in data])\n",
        "y = np.array([point[1] for point in data])\n",
        "\n",
        "# Step 1: Normalize the x values\n",
        "scaler = StandardScaler()\n",
        "x_normalized = scaler.fit_transform(x.reshape(-1, 1)).flatten()  # Flatten to 1D array\n",
        "\n",
        "# Step 2: Construct the design matrix for a 10th-degree polynomial with normalized x values\n",
        "X_normalized = np.vander(x_normalized, 11)  # Vandermonde matrix for polynomial terms\n",
        "\n",
        "# Step 3: Calculate the OLS estimate using the normal equation\n",
        "# OLS: alpha_ols = (X.T * X)^(-1) * X.T * y\n",
        "alpha_ols = np.linalg.inv(X_normalized.T @ X_normalized) @ X_normalized.T @ y\n",
        "\n",
        "# Step 4: Perform ridge regression\n",
        "lambda_value = 1000  # Regularization strength (penalty weight)\n",
        "ridge = Ridge(alpha=lambda_value, fit_intercept=False)  # Ridge regression without intercept\n",
        "ridge.fit(X_normalized, y)  # Fit the model to the data\n",
        "alpha_ridge = ridge.coef_  # Coefficients of the ridge regression model\n",
        "\n",
        "# Print the results\n",
        "print(\"OLS Estimates:\", alpha_ols)\n",
        "print(\"Ridge Regularized Estimates:\", alpha_ridge)\n"
      ],
      "metadata": {
        "id": "LS3AKSmDj0gw",
        "outputId": "bad1775f-bb91-4498-c4eb-85499fa76712",
        "colab": {
          "base_uri": "https://localhost:8080/"
        }
      },
      "execution_count": 1,
      "outputs": [
        {
          "output_type": "stream",
          "name": "stdout",
          "text": [
            "OLS Estimates: [-1.56695647e+11 -3.25181230e+11  2.45655436e+12  2.23340366e+12\n",
            " -5.38355439e+12 -4.18695902e+12  4.45319565e+12  2.81662448e+12\n",
            " -1.08390846e+12 -4.87167397e+11  9.23576105e+09]\n",
            "Ridge Regularized Estimates: [ 1.80910686e+11  5.33511900e+10  6.74488219e+10  1.79037934e+10\n",
            "  2.39838957e+10  5.21448066e+09  7.90005888e+09  1.03964778e+09\n",
            "  2.18929582e+09 -1.43587882e+08  2.71850265e+08]\n"
          ]
        }
      ]
    }
  ]
}